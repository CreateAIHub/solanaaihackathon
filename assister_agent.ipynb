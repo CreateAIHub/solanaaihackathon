{
 "cells": [
  {
   "cell_type": "code",
   "execution_count": 1,
   "metadata": {},
   "outputs": [],
   "source": [
    "from src.api.config import ApiConfig\n",
    "from src.api.client import ApiClient\n",
    "from src.decision.decision_maker import DecisionMaker"
   ]
  },
  {
   "cell_type": "code",
   "execution_count": 2,
   "metadata": {},
   "outputs": [],
   "source": [
    "config = ApiConfig()\n",
    "api_client = ApiClient(config)\n",
    "decision_maker = DecisionMaker(api_client)"
   ]
  },
  {
   "cell_type": "code",
   "execution_count": 3,
   "metadata": {},
   "outputs": [
    {
     "name": "stdout",
     "output_type": "stream",
     "text": [
      "Knowledge Base Action Triggered!\n",
      "Details: question answered based on knowledge\n",
      "Answer: To use Jupiter for token swaps, follow these steps: 1) Ensure you have a compatible wallet (Phantom, Solflare, Ledger, Trust Wallet). 2) Go to the Jupiter aggregator and select the tokens you want to swap. 3) Confirm the swap and the amount of tokens to exchange. 4) Review the swap details and confirm the transaction on your wallet. Please note that Solana network fees and any liquidity provider fees may apply.\n"
     ]
    }
   ],
   "source": [
    "query = \"can you direct me to the jupiter swap\"\n",
    "response = decision_maker.query(query)\n",
    "decision_maker.parse_response(response)"
   ]
  },
  {
   "cell_type": "code",
   "execution_count": null,
   "metadata": {},
   "outputs": [],
   "source": []
  }
 ],
 "metadata": {
  "kernelspec": {
   "display_name": "agent",
   "language": "python",
   "name": "python3"
  },
  "language_info": {
   "codemirror_mode": {
    "name": "ipython",
    "version": 3
   },
   "file_extension": ".py",
   "mimetype": "text/x-python",
   "name": "python",
   "nbconvert_exporter": "python",
   "pygments_lexer": "ipython3",
   "version": "3.12.4"
  }
 },
 "nbformat": 4,
 "nbformat_minor": 2
}
